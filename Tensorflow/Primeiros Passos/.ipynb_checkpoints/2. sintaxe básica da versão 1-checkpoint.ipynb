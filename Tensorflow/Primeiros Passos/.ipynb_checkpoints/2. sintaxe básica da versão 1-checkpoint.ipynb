{
 "cells": [
  {
   "cell_type": "code",
   "execution_count": 32,
   "metadata": {},
   "outputs": [
    {
     "name": "stdout",
     "output_type": "stream",
     "text": [
      "2.2.0\n"
     ]
    }
   ],
   "source": [
    "# importação do tensorflow, no modo de compatibilidade com a versão 1. \n",
    "import tensorflow.compat.v1 as tf\n",
    "tf.disable_v2_behavior()\n",
    "print(tf.__version__)"
   ]
  },
  {
   "cell_type": "code",
   "execution_count": 33,
   "metadata": {},
   "outputs": [],
   "source": [
    "# atribuindo dois valores às constantes criadas: vejam, na sintaxe, que é \n",
    "# utilizada uma função \"constant()\" do tensorflow.\n",
    "constante1 = tf.constant(10)\n",
    "constante2 = tf.constant(20)"
   ]
  },
  {
   "cell_type": "code",
   "execution_count": 34,
   "metadata": {},
   "outputs": [
    {
     "name": "stdout",
     "output_type": "stream",
     "text": [
      "Tensor(\"Const_6:0\", shape=(), dtype=int32)\n"
     ]
    }
   ],
   "source": [
    "# vejam que um print, ao contrário do que ocorre na versão 2, não apresenta o valor:\n",
    "print(constante1)"
   ]
  },
  {
   "cell_type": "code",
   "execution_count": 35,
   "metadata": {},
   "outputs": [
    {
     "name": "stdout",
     "output_type": "stream",
     "text": [
      "10\n"
     ]
    }
   ],
   "source": [
    "# Se quisermos apresentar o valor, devemos chamar a função eval(), dentro de uma session:\n",
    "with tf.Session() as sess:\n",
    "    print(constante1.eval())"
   ]
  },
  {
   "cell_type": "code",
   "execution_count": 36,
   "metadata": {},
   "outputs": [],
   "source": [
    "# Vamos mapear uma operação que, ao contrário da versão 2, só será executada futuramente (lazy execution)\n",
    "soma = constante1 + constante2"
   ]
  },
  {
   "cell_type": "code",
   "execution_count": 37,
   "metadata": {},
   "outputs": [],
   "source": [
    "# Essa é a mais radical diferença entre as versões.\n",
    "# Nesta versão 1, precisamos mapear a operação, e então iniciar uma sessão, \n",
    "# para que, utilizando o método run, tivéssemos a execução\n",
    "# para atribuir o valor da soma dos valores internos à variável 'resultadov1'.\n",
    "#\n",
    "# Poderíamos abrir a sessão de várias formas, mas o 'with' é usado para garantir finalização\n",
    "# de recursos adquiridos. como no tensorflow teremos geralmente uma alta carga de operações, \n",
    "# é importante criar um código otimizado na utilização de recursos.\n",
    "with tf.Session() as sess:\n",
    "    resultadov1 = sess.run(soma)"
   ]
  },
  {
   "cell_type": "code",
   "execution_count": 38,
   "metadata": {},
   "outputs": [
    {
     "name": "stdout",
     "output_type": "stream",
     "text": [
      "30\n"
     ]
    }
   ],
   "source": [
    "# Vejamos que, ao contrário das constantes e variáveis, \n",
    "# depois de feita a soma não temos mais um objeto Tensor, mas sim um valor normal.\n",
    "print(resultadov1)"
   ]
  },
  {
   "cell_type": "code",
   "execution_count": 39,
   "metadata": {},
   "outputs": [],
   "source": [
    "# vejamos que funciona com strings, também\n",
    "string1 = tf.constant('concatenando ')\n",
    "string2 = tf.constant('uma string')"
   ]
  },
  {
   "cell_type": "code",
   "execution_count": 40,
   "metadata": {},
   "outputs": [
    {
     "name": "stdout",
     "output_type": "stream",
     "text": [
      "Tensor(\"Const_8:0\", shape=(), dtype=string)\n",
      "Tensor(\"Const_9:0\", shape=(), dtype=string)\n"
     ]
    }
   ],
   "source": [
    "# vejamos que ele identifica o conteúdo como string.\n",
    "print(string1)\n",
    "print(string2)"
   ]
  },
  {
   "cell_type": "code",
   "execution_count": 41,
   "metadata": {},
   "outputs": [
    {
     "name": "stdout",
     "output_type": "stream",
     "text": [
      "Tensor(\"Const_9:0\", shape=(), dtype=string)\n"
     ]
    }
   ],
   "source": [
    "type(string1)\n",
    "print(string2)"
   ]
  },
  {
   "cell_type": "code",
   "execution_count": 42,
   "metadata": {},
   "outputs": [],
   "source": [
    "# ... e executando na versão 1, dentro de uma sessão, diretamente na chamada do run().\n",
    "with tf.Session() as sess:\n",
    "    resultado = sess.run(string1 + string2)"
   ]
  },
  {
   "cell_type": "code",
   "execution_count": 43,
   "metadata": {},
   "outputs": [
    {
     "name": "stdout",
     "output_type": "stream",
     "text": [
      "b'concatenando uma string'\n"
     ]
    }
   ],
   "source": [
    "# o prefixo b significa \"literal bytes\". Lembremos que uma string é uma abstração - os valores são bytes mesmo.\n",
    "print(resultado)"
   ]
  }
 ],
 "metadata": {
  "kernelspec": {
   "display_name": "Python 3",
   "language": "python",
   "name": "python3"
  },
  "language_info": {
   "codemirror_mode": {
    "name": "ipython",
    "version": 3
   },
   "file_extension": ".py",
   "mimetype": "text/x-python",
   "name": "python",
   "nbconvert_exporter": "python",
   "pygments_lexer": "ipython3",
   "version": "3.6.10"
  }
 },
 "nbformat": 4,
 "nbformat_minor": 2
}
