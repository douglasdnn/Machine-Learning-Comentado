{
 "cells": [
  {
   "cell_type": "code",
   "execution_count": 46,
   "metadata": {},
   "outputs": [
    {
     "name": "stdout",
     "output_type": "stream",
     "text": [
      "2.2.0\n"
     ]
    }
   ],
   "source": [
    "# importação do tensorflow, na versão 2. Para estes exercícios deixaremos o código todo na\n",
    "# versão recomendada, utilizando o modo de compatibilidade com a versão anterior do tensorflow para\n",
    "# ser chamada apenas quando necessário.\n",
    "import tensorflow as tf\n",
    "print(tf.__version__)"
   ]
  },
  {
   "cell_type": "code",
   "execution_count": 47,
   "metadata": {},
   "outputs": [],
   "source": [
    "# atribuindo dois valores às constantes criadas: vejam, na sintaxe, que é \n",
    "# utilizada uma função \"constant()\" do tensorflow.\n",
    "constante1 = tf.constant(10)\n",
    "constante2 = tf.constant(20)"
   ]
  },
  {
   "cell_type": "code",
   "execution_count": 48,
   "metadata": {},
   "outputs": [
    {
     "data": {
      "text/plain": [
       "tensorflow.python.framework.ops.EagerTensor"
      ]
     },
     "execution_count": 48,
     "metadata": {},
     "output_type": "execute_result"
    }
   ],
   "source": [
    "# a qual, se há o pedido para exibição do tipo, é um objeto do tensorflow, o \"Tensor\"\n",
    "type(constante1)"
   ]
  },
  {
   "cell_type": "code",
   "execution_count": 49,
   "metadata": {},
   "outputs": [
    {
     "name": "stdout",
     "output_type": "stream",
     "text": [
      "tf.Tensor(10, shape=(), dtype=int32)\n"
     ]
    }
   ],
   "source": [
    "# por isso mesmo, o print não exibe o valor atribuído, exibe a estrutura do objeto.\n",
    "print(constante1)"
   ]
  },
  {
   "cell_type": "code",
   "execution_count": 50,
   "metadata": {},
   "outputs": [
    {
     "name": "stdout",
     "output_type": "stream",
     "text": [
      "30\n"
     ]
    }
   ],
   "source": [
    "# aqui vem um grande diferencial das versões. \n",
    "# Na versão 1, quando declaramos uma operação com estes objetos, estamos apenas\n",
    "# mapeando uma operação que será executada futuramente ('lazy execution'). \n",
    "# na versão 2, esta operação é executada instantaneamente ('eager execution'), como podemos ver \n",
    "# utilizando o próprio numpy para inspecionar o valor do objeto - vejam que a soma já foi feita.\n",
    "resultadov2 = constante1 + constante2\n",
    "print(resultadov2.numpy())"
   ]
  },
  {
   "cell_type": "code",
   "execution_count": 51,
   "metadata": {},
   "outputs": [
    {
     "data": {
      "text/plain": [
       "tensorflow.python.framework.ops.EagerTensor"
      ]
     },
     "execution_count": 51,
     "metadata": {},
     "output_type": "execute_result"
    }
   ],
   "source": [
    "# Mesmo assim, a própria variável é um objeto Tensor, não um valor numérico (do tipo EagerTensor).\n",
    "type(resultadov2)"
   ]
  },
  {
   "cell_type": "code",
   "execution_count": 52,
   "metadata": {},
   "outputs": [
    {
     "name": "stdout",
     "output_type": "stream",
     "text": [
      "tf.Tensor(30, shape=(), dtype=int32)\n"
     ]
    }
   ],
   "source": [
    "# como podemos ver no print, que traz a estrutura do objeto. O shape=() informa que se trata\n",
    "# de um valor escalar (sem dimensionalidade, como um array uni ou multidimensional)\n",
    "print(soma)"
   ]
  },
  {
   "cell_type": "code",
   "execution_count": 26,
   "metadata": {},
   "outputs": [],
   "source": [
    "# vejamos que funciona com strings, também\n",
    "string1 = tf.constant('concatenando ')\n",
    "string2 = tf.constant('uma string')"
   ]
  },
  {
   "cell_type": "code",
   "execution_count": 53,
   "metadata": {},
   "outputs": [
    {
     "name": "stdout",
     "output_type": "stream",
     "text": [
      "tf.Tensor(b'concatenando ', shape=(), dtype=string)\n",
      "tf.Tensor(b'uma string', shape=(), dtype=string)\n"
     ]
    }
   ],
   "source": [
    "# ele identifica o conteúdo como string. Ele já apresenta o conteúdo, na versão 2.\n",
    "print(string1)\n",
    "print(string2)"
   ]
  },
  {
   "cell_type": "code",
   "execution_count": 54,
   "metadata": {},
   "outputs": [
    {
     "name": "stdout",
     "output_type": "stream",
     "text": [
      "tf.Tensor(b'uma string', shape=(), dtype=string)\n"
     ]
    }
   ],
   "source": [
    "type(string1)\n",
    "print(string2)"
   ]
  },
  {
   "cell_type": "code",
   "execution_count": 55,
   "metadata": {},
   "outputs": [
    {
     "name": "stdout",
     "output_type": "stream",
     "text": [
      "b'concatenando uma string'\n"
     ]
    }
   ],
   "source": [
    "# executando normalmente, na versão 2 - basta acessar o resultado com o numpy...\n",
    "# o conteúdo de 1 é uma string com bytes literal (b''). \n",
    "# Lembremos que uma string é uma abstração, o valor real são os bytes.\n",
    "resultado = string1 + string2\n",
    "print(resultado.numpy())"
   ]
  }
 ],
 "metadata": {
  "kernelspec": {
   "display_name": "Python 3",
   "language": "python",
   "name": "python3"
  },
  "language_info": {
   "codemirror_mode": {
    "name": "ipython",
    "version": 3
   },
   "file_extension": ".py",
   "mimetype": "text/x-python",
   "name": "python",
   "nbconvert_exporter": "python",
   "pygments_lexer": "ipython3",
   "version": "3.6.10"
  }
 },
 "nbformat": 4,
 "nbformat_minor": 2
}
