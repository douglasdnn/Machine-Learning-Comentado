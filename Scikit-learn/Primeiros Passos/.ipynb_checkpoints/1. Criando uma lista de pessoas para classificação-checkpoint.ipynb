{
 "cells": [
  {
   "cell_type": "code",
   "execution_count": 1,
   "metadata": {},
   "outputs": [],
   "source": [
    "# Para efeitos de sorteio de valores médios neste tutorial, vamos utilizar uma \n",
    "# função de distribuição normal. Isso é uma distribuição em formato de sino (bell curve,\n",
    "# ou curva normal), bem centrada em volta do valor médio (mais prováveis), mas ainda \n",
    "# com ocorrência dos valores mais extremos.\n",
    "#\n",
    "# Vamos criar uma função, que pode gerar um número variável de amostras, e testar.\n",
    "# Vamos passar o desvio padrão (um valor que determina quanto os valores se espalham\n",
    "# fora do centro, o quanto a curva é alta  íngreme) também como argumento, para \n",
    "# deixar a função mais versátil e reutilizável.\n",
    "#\n",
    "# Essa função gira em torno da truncnorm (normal truncada) da biblioteca scipy.\n",
    "import numpy as np\n",
    "import scipy.stats\n",
    "\n",
    "def randomizaNormal(limiteInferior, limiteSuperior, desvioPadrao, numeroAmostras):\n",
    "    limiteInferior = 1\n",
    "    limiteSuperior = 10\n",
    "    media = (limiteInferior+limiteSuperior)/2\n",
    "    amostras = scipy.stats.truncnorm.rvs((limiteInferior-media)/desvioPadrao,(limiteSuperior-media)/desvioPadrao,loc=media,scale=desvioPadrao,size=numeroAmostras)\n",
    "    amostras = np.around(amostras,0).astype(int)\n",
    "    return amostras"
   ]
  },
  {
   "cell_type": "code",
   "execution_count": 2,
   "metadata": {},
   "outputs": [
    {
     "data": {
      "image/png": "[encoded data removed]",
      "text/plain": [
       "<Figure size 432x288 with 1 Axes>"
      ]
     },
     "metadata": {
      "needs_background": "light"
     },
     "output_type": "display_data"
    }
   ],
   "source": [
    "# Vamos testar: limite mínimo 1, limite máximo 1, desvio padrão 3, 10.000 amostras:\n",
    "amostragemTeste = randomizaNormal(1, 10, 3, 10000)\n",
    "\n",
    "# No matplotlib, vemos que funciona maravilhosamente.\n",
    "import matplotlib.pyplot as plt\n",
    "\n",
    "n, bins, patches = plt.hist(amostragemTeste, 10, density=True, facecolor='g', alpha=1)\n",
    "plt.xlabel('Número')\n",
    "plt.ylabel('Probabilidade')\n",
    "plt.title('Distribuição Normal')\n",
    "plt.xlim(0, 11)\n",
    "plt.ylim(0, 0.2)\n",
    "plt.grid(True)\n",
    "plt.show()"
   ]
  },
  {
   "cell_type": "code",
   "execution_count": 3,
   "metadata": {},
   "outputs": [],
   "source": [
    "# Vamos criar uma variação dessa função. Desta vez, ela recebe uma lista e um desvio padrão\n",
    "# como parâmetro - e simplesmente escolhe um dos valores da lista, de novo, com uma distribuição\n",
    "# normal, centrada nos valoes intermediarios. Faremos isso com uma lista e um índice, em vez\n",
    "# de usar um modo mais direto, para que isso possa ser feito inclusive com listas contendo\n",
    "# valores não-numéricos, como textos, etc. Ela assumirá que os valores do miolo são \"médios\".\n",
    "# Ela receberá também um valor \"deslocamento\", para deslocar a média inicial para a esquerda\n",
    "# ou para a direita - isso auxiliará a criar populações com comportamentos diferentes.\n",
    "\n",
    "def randomizaNormalLista(lista, desvioPadrao, deslocamento):\n",
    "    limiteInferior = 1\n",
    "    limiteSuperior = len(lista)-1\n",
    "    media = (limiteInferior+limiteSuperior)/2 + deslocamento\n",
    "    indice = scipy.stats.truncnorm.rvs((limiteInferior-media)/desvioPadrao,(limiteSuperior-media)/desvioPadrao,loc=media,scale=desvioPadrao,size=1)\n",
    "    indice = np.around(indice,0).astype(int)\n",
    "    indice = indice[0]\n",
    "    return lista[indice]\n",
    "    "
   ]
  },
  {
   "cell_type": "code",
   "execution_count": 4,
   "metadata": {},
   "outputs": [
    {
     "name": "stdout",
     "output_type": "stream",
     "text": [
      "sete\n"
     ]
    }
   ],
   "source": [
    "# Vamos testar, com desvio padrão e e deslocamento zero. \n",
    "universoTeste = [\"zero\",\"um\",\"dois\",\"três\",\"quatro\",\"cinco\",\"seis\",\"sete\",\"oito\",\"nove\",\"dez\"]\n",
    "amostraTeste = randomizaNormalLista(universoTeste, 3, 0)\n",
    "print(amostraTeste)"
   ]
  },
  {
   "cell_type": "code",
   "execution_count": 5,
   "metadata": {},
   "outputs": [],
   "source": [
    "#vamos seguir em frente, com o seguinte:\n",
    "#\n",
    "# 1 - Criaremos algumas tabelas com características gerais comuns\n",
    "# 2 - Criaremos algumas tabelas com características \"mais brasileiras\" a \"mais americanas\"\n",
    "# 3 - Criaremos uma pessoa hipotética, e sortearemos um gênero e nacionalidade \n",
    "# 5 - A partir do gênero e nacionalidade iremos gerar algumas características, com base na distribuição\n",
    "#     normal, com pequeno deslocamento para cima ou para baixo na média, dependendo da nacionalidade\n",
    "# 5 - Iremos então adicionar esta pessoa em uma lista de pessoas, que crescerá até as 10.000 pessoas.\n",
    "#\n",
    "# Inicializando o contador de pessoas:\n",
    "contadorPessoas = 1\n",
    "# Inicializando a tabela de pessoas:\n",
    "pessoas = []\n",
    "# Tabela nacionalidade\n",
    "tabelaNacionalidade = [\"Brasil\", \"EUA\"]\n",
    "# Tabela gênero\n",
    "tabelaGenero = [\"M\",\"F\"]"
   ]
  },
  {
   "cell_type": "code",
   "execution_count": 6,
   "metadata": {},
   "outputs": [],
   "source": [
    "# Primeiro, as tabelas com características em comum: altura e peso.\n",
    "# \n",
    "# Tabela altura em centímetros, vamos usar uma função range, com o operador * \n",
    "# (que descomprime na hora o resultado). O range começa no 160 e vai até o 200,\n",
    "# subindo de 2 em 2. Ela terá, então, 20 itens.\n",
    "tabelaAltura = [*range(160, 210, 4)]\n",
    "\n",
    "# Mesma coisa para a tabela peso\n",
    "tabelaPeso = [*range(50, 130, 5)]"
   ]
  },
  {
   "cell_type": "code",
   "execution_count": 7,
   "metadata": {},
   "outputs": [],
   "source": [
    "# Agora as tabelas \"mais ou menos\" brasileiras/americanas. Vamos começar com uma tabela\n",
    "# de comidas favoritas, que começa em comidas tipicamente brasileiras, passa por comidas comuns,\n",
    "# e termina em comidas tipicamente americanas. Embora a função normal gere números de 1 a 10,\n",
    "# vamos precisar de 2 números adicionais de cada lado, pois faremos um pequeno deslocamento para\n",
    "# um lado ou para o outro, dependendo se o sujeito for brasileiro ou americano.\n",
    "tabelaComida = [\"Maniçoba\", \"Vatapá\", \"Acarajé\", \"Arroz Trop.\", \"Feijoada\", \"Churrasco\", \"Pizza\", \"Hamburguer\", \"Hummus\", \"Bagel\", \"Clam Chowder\", \"Tacos\", \"Torta de Maçã\"]\n",
    "\n",
    "# O mesmo para a tabela programa favorito\n",
    "tabelaPrograma = [\"A Praça é Nossa\", \"A Grande Família\", \"Chaves\", \"Jaspion\", \"A Usurpadora\", \"A Casa de Papel\", \"Narcos\", \"Friends\", \"Law and Order\", \"Chicago Fire\", \"WWE Smackdown\", \"Jeopardy\", \"Family Feud\", \"Cops\"]\n",
    "\n",
    "# e o mesmo para a tabela esporte favorito\n",
    "tabelaEsporte = [\"Vôlei de Praia\", \"Futebol de Salão\", \"Vôlei\", \"Futebol\", \"MMA\", \"Natação\", \"Atletismo\", \"Boxe\", \"Basquete\", \"Boliche\", \"Futebol Am.\", \"Luta Livre\", \"Basebol\", \"Esqui\"]"
   ]
  },
  {
   "cell_type": "code",
   "execution_count": 8,
   "metadata": {},
   "outputs": [],
   "source": [
    "# E estamos prontos para gerar pessoas. Vamos lá.\n",
    "# para nacionalidade e sexo temos valores binários, então só a função random serve (gera números\n",
    "# entre 0 e 1). Para as demais, vamos usar a função randomizaNormal com um shift de -2 a +2\n",
    "# o que, somando, dá 4 passos de diferença de média entre brasileiros e americanos.\n",
    "# Vamos complicar o trabalho do nosso preditor: colocar uma informação que não quer dizer nada\n",
    "# (a altura, que será a mesma, sem shift), perfeitamente aleatória,  e supor que \n",
    "# nos dois países homens sejam em média 2 centímetros maiores que mulheres, \n",
    "# e 5 quilos mais pesados. (shift de um passo para cima).\n",
    "# um pequeno ajuste traz o número randomizado para o centro da tabela, no final.\n",
    "# Vamos criar uma função para isso, que devolve, separada, a nacionalidade e a pessoa:\n",
    "def criaPessoa():\n",
    "    nacionalidade = tabelaNacionalidade[round(np.random.random())]\n",
    "    if nacionalidade == \"Brasil\":\n",
    "        shiftNac = -1\n",
    "    elif nacionalidade == \"EUA\":\n",
    "        shiftNac = 1            \n",
    "    genero = tabelaGenero[round(np.random.random())]\n",
    "    if genero == \"M\":\n",
    "        shiftGen = 1\n",
    "    elif genero == \"F\":\n",
    "        shiftGen = 0\n",
    "    altura = randomizaNormalLista(tabelaAltura, 3, shiftGen)\n",
    "    peso = randomizaNormalLista(tabelaPeso, 3, shiftNac + shiftGen)\n",
    "    comida = randomizaNormalLista(tabelaComida, 3, shiftNac)\n",
    "    programa = randomizaNormalLista(tabelaPrograma, 3, shiftNac)\n",
    "    esporte = randomizaNormalLista(tabelaEsporte, 3, shiftNac)\n",
    "    pessoa = [nacionalidade, genero, altura, peso, comida, programa, esporte]\n",
    "    return pessoa"
   ]
  },
  {
   "cell_type": "code",
   "execution_count": 9,
   "metadata": {},
   "outputs": [
    {
     "name": "stdout",
     "output_type": "stream",
     "text": [
      "['Brasil', 'M', 188, 95, 'Arroz Trop.', 'Friends', 'Futebol']\n",
      "['Brasil', 'M', 180, 95, 'Torta de Maçã', 'Law and Order', 'Boxe']\n",
      "['Brasil', 'F', 172, 75, 'Arroz Trop.', 'A Usurpadora', 'Futebol Am.']\n",
      "['EUA', 'F', 164, 105, 'Pizza', 'Chicago Fire', 'Basquete']\n",
      "['Brasil', 'M', 180, 85, 'Vatapá', 'A Casa de Papel', 'Boxe']\n",
      "['Brasil', 'F', 180, 80, 'Hamburguer', 'Law and Order', 'Atletismo']\n",
      "['Brasil', 'M', 200, 85, 'Churrasco', 'Narcos', 'Luta Livre']\n",
      "['Brasil', 'F', 192, 95, 'Feijoada', 'A Usurpadora', 'Atletismo']\n",
      "['Brasil', 'M', 172, 115, 'Feijoada', 'Jaspion', 'Boliche']\n",
      "['Brasil', 'F', 188, 65, 'Pizza', 'Friends', 'MMA']\n"
     ]
    }
   ],
   "source": [
    "#Vamos mostrar 10 pessoas aleatórias:\n",
    "for i in range(10):\n",
    "    pessoa = criaPessoa()\n",
    "    print(pessoa)"
   ]
  },
  {
   "cell_type": "code",
   "execution_count": 10,
   "metadata": {},
   "outputs": [],
   "source": [
    "# Com isso, vamos gerar uma lista de 10.000 pessoas, sem informação \n",
    "# de nacionalidade (que o nosso sistema tentará deduzir). Vamos iniciar\n",
    "# com um registro que será o título das colunas:\n",
    "pessoas=[[\"país\", \"gênero\", \"altura\", \"peso\", \"comida fav.\", \"programa fav.\", \"esporte fav.\"]]\n",
    "for i in range(10000):\n",
    "    pessoa = criaPessoa()\n",
    "    pessoas.append(pessoa)    "
   ]
  },
  {
   "cell_type": "code",
   "execution_count": 11,
   "metadata": {},
   "outputs": [],
   "source": [
    "# O melhor jeito de trabalhar com esse tipo de dados é com a biblioteca pandas,\n",
    "# que tem um objeto próprio, o dataframe, com métodos muito úteis. Vamos\n",
    "# importar a biblioteca e transformar essa lista em um dataframe.\n",
    "# Após, vamos pegar o registro 0 como título das colunas e descartá-lo da lista.\n",
    "\n",
    "import pandas as pd\n",
    "pessoas = pd.DataFrame(data=pessoas)\n",
    "pessoas.columns = pessoas.iloc[0]\n",
    "pessoas = pessoas.drop(0)\n"
   ]
  },
  {
   "cell_type": "code",
   "execution_count": 13,
   "metadata": {},
   "outputs": [
    {
     "name": "stdout",
     "output_type": "stream",
     "text": [
      "0        país gênero altura peso   comida fav.  programa fav. esporte fav.\n",
      "1      Brasil      F    180   80    Hamburguer   Chicago Fire      Natação\n",
      "2         EUA      F    188  100         Pizza         Narcos      Boliche\n",
      "3         EUA      F    188  100         Pizza        Friends      Futebol\n",
      "4         EUA      M    188  100      Feijoada  WWE Smackdown    Atletismo\n",
      "5      Brasil      F    196   95    Hamburguer  Law and Order    Atletismo\n",
      "...       ...    ...    ...  ...           ...            ...          ...\n",
      "9996   Brasil      M    176  115         Pizza  Law and Order         Boxe\n",
      "9997      EUA      M    196  110        Hummus   Chicago Fire  Futebol Am.\n",
      "9998   Brasil      M    188   75        Hummus        Friends      Boliche\n",
      "9999      EUA      F    204   80  Clam Chowder  Law and Order        Esqui\n",
      "10000  Brasil      F    188   80        Hummus        Jaspion          MMA\n",
      "\n",
      "[10000 rows x 7 columns]\n"
     ]
    }
   ],
   "source": [
    "# Vejamos que o dataframe é bem mais organizado e apresentável.\n",
    "print(pessoas)"
   ]
  },
  {
   "cell_type": "code",
   "execution_count": 15,
   "metadata": {},
   "outputs": [],
   "source": [
    "# com a biblioteca pandas é facílimo salvar o dataset em csv (comma separated values):\n",
    "pessoas.to_csv(\"pessoas.csv\")"
   ]
  },
  {
   "cell_type": "code",
   "execution_count": 18,
   "metadata": {},
   "outputs": [],
   "source": [
    "# A biblioteca pandas tem, inclusive, um método que permite facilmente salvar em Excel\n",
    "# (desde que o módulo openpyxl esteja instalado no ambiente, claro:)\n",
    "pessoas.to_excel(\"pessoas.xlsx\", sheet_name=\"pessoas\")"
   ]
  },
  {
   "cell_type": "code",
   "execution_count": null,
   "metadata": {},
   "outputs": [],
   "source": []
  }
 ],
 "metadata": {
  "kernelspec": {
   "display_name": "Python 3",
   "language": "python",
   "name": "python3"
  },
  "language_info": {
   "codemirror_mode": {
    "name": "ipython",
    "version": 3
   },
   "file_extension": ".py",
   "mimetype": "text/x-python",
   "name": "python",
   "nbconvert_exporter": "python",
   "pygments_lexer": "ipython3",
   "version": "3.6.10"
  }
 },
 "nbformat": 4,
 "nbformat_minor": 4
}
